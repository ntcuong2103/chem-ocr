{
 "cells": [
  {
   "cell_type": "code",
   "execution_count": 1,
   "metadata": {},
   "outputs": [],
   "source": [
    "import torch \n",
    "import torch.nn as nn\n",
    "import torch.nn.functional as F\n",
    "import torch.optim\n",
    "import torchvision\n",
    "\n",
    "import numpy as np\n",
    "import pandas as pd\n",
    "\n",
    "import math\n",
    "\n",
    "import cv2"
   ]
  },
  {
   "cell_type": "code",
   "execution_count": 2,
   "metadata": {},
   "outputs": [],
   "source": [
    "H_LO = 16\n",
    "H_HI = 640\n",
    "W_LO = 16\n",
    "W_HI = 640\n",
    "\n",
    "class ScaleToImageSize:\n",
    "  def __init__(self, patch_size: int = 16, w_lo: int = W_LO, w_hi: int = W_HI, h_lo: int = H_LO, h_hi: int = H_HI, ) -> None:\n",
    "    assert w_lo <= w_hi and h_lo <= h_hi\n",
    "    self.w_lo = w_lo\n",
    "    self.w_hi = w_hi\n",
    "    self.h_lo = h_lo\n",
    "    self.h_hi = h_hi\n",
    "    self.patch_size = patch_size\n",
    "  \n",
    "  def __call__(self, img: np.ndarray) -> np.ndarray:\n",
    "    h, w = img.shape[:2]\n",
    "    r = h / w\n",
    "    lo_r = self.h_lo / self.w_hi\n",
    "    hi_r = self.h_hi / self.w_lo\n",
    "    assert lo_r <= h / w <= hi_r, f\"img ratio h:w {r} not in range [{lo_r}, {hi_r}]\"\n",
    "\n",
    "    scale_r = min(self.h_hi / h, self.w_hi / w)\n",
    "    if scale_r < 1.0:\n",
    "      # one of h or w highr that hi, so scale down\n",
    "      img = cv2.resize(img, None, fx=scale_r, fy=scale_r, interpolation=cv2.INTER_CUBIC)\n",
    "\n",
    "    scale_r = max(self.h_lo / h, self.w_lo / w)\n",
    "    if scale_r > 1.0:\n",
    "      # one of h or w lower that lo, so scale up\n",
    "      img = cv2.resize(img, None, fx=scale_r, fy=scale_r, interpolation=cv2.INTER_CUBIC)\n",
    "    \n",
    "    h, w = img.shape[:2]\n",
    "    \n",
    "    # in the rectangle, do not scale\n",
    "    assert self.h_lo <= h <= self.h_hi and self.w_lo <= w <= self.w_hi\n",
    "    \n",
    "    new_h, new_w = img.shape[:2]\n",
    "    \n",
    "    new_h = self.patch_size * math.ceil(new_h / self.patch_size)\n",
    "    new_w = self.patch_size * math.ceil(new_w / self.patch_size)\n",
    "    img = cv2.resize(img, (new_w, new_h), interpolation=cv2.INTER_CUBIC)\n",
    "    return img\n"
   ]
  },
  {
   "cell_type": "code",
   "execution_count": 3,
   "metadata": {},
   "outputs": [],
   "source": [
    "from torchvision.transforms import transforms, Compose\n",
    "\n",
    "file = 'train_30738'\n",
    "\n",
    "test_im = cv2.imread('../train/' + file + '.jpg', cv2.IMREAD_GRAYSCALE)\n",
    "\n",
    "transform = Compose([ScaleToImageSize(patch_size=16), transforms.ToTensor()])"
   ]
  },
  {
   "cell_type": "code",
   "execution_count": 4,
   "metadata": {},
   "outputs": [],
   "source": [
    "# 1 image batch test\n",
    "\n",
    "imgs = [transform(test_im)]"
   ]
  },
  {
   "cell_type": "code",
   "execution_count": 5,
   "metadata": {},
   "outputs": [],
   "source": [
    "import math\n",
    "\n",
    "h_x = [s.size(1) for s in imgs]\n",
    "w_x = [s.size(2) for s in imgs]\n",
    "\n",
    "max_height_x = max(h_x)\n",
    "max_width_x = max(w_x)\n",
    "\n",
    "x = torch.zeros(len(h_x), 1, max_height_x, max_width_x)\n",
    "x_mask = torch.ones(len(h_x), math.floor(max_height_x/16)*16, math.floor(max_width_x/16)*16, dtype=torch.float)\n",
    "\n",
    "for idx, s_x in enumerate(imgs):\n",
    "    x[idx, :, :h_x[idx], :w_x[idx]] = s_x\n",
    "    x_mask[idx, :h_x[idx], :w_x[idx]] = 0"
   ]
  },
  {
   "cell_type": "code",
   "execution_count": 6,
   "metadata": {},
   "outputs": [],
   "source": [
    "label_dict = { line.strip().split('\\t')[0]:line.strip().split('\\t')[1]for line in open ('train_ssml_sd.txt').readlines()}"
   ]
  },
  {
   "cell_type": "code",
   "execution_count": 7,
   "metadata": {},
   "outputs": [
    {
     "name": "stdout",
     "output_type": "stream",
     "text": [
      "{'<pad>': 0, '<sos>': 1, '<eos>': 2, '<unk>': 108, '!': 4, '\"': 5, '(': 6, ')': 7, '*': 8, '+': 9, ',': 10, '-': 11, '-:[:0]': 12, '-:[:135]': 13, '-:[:15]': 14, '-:[:30]': 15, '-:[:345]': 16, '-:[:45]': 17, '-:[:60]': 18, '-:[:90]': 19, '-[:0]': 20, '-[:105]': 21, '-[:120]': 22, '-[:135]': 23, '-[:150]': 24, '-[:15]': 25, '-[:165]': 26, '-[:180]': 27, '-[:195]': 28, '-[:210]': 29, '-[:225]': 30, '-[:240]': 31, '-[:255]': 32, '-[:270]': 33, '-[:285]': 34, '-[:300]': 35, '-[:30]': 36, '-[:315]': 37, '-[:330]': 38, '-[:345]': 39, '-[:45]': 40, '-[:60]': 41, '-[:75]': 42, '-[:90]': 43, '.': 44, '/': 45, '//': 46, '0': 47, '1': 48, '2': 49, '3': 50, '4': 51, '5': 52, '6': 53, '7': 54, '8': 55, '9': 56, ':': 57, ';': 58, '<': 59, '<:[:0]': 60, '<:[:105]': 61, '<:[:120]': 62, '<:[:135]': 63, '<:[:150]': 64, '<:[:15]': 65, '<:[:165]': 66, '<:[:180]': 67, '<:[:195]': 68, '<:[:210]': 69, '<:[:225]': 70, '<:[:240]': 71, '<:[:255]': 72, '<:[:270]': 73, '<:[:285]': 74, '<:[:300]': 75, '<:[:30]': 76, '<:[:315]': 77, '<:[:330]': 78, '<:[:345]': 79, '<:[:45]': 80, '<:[:60]': 81, '<:[:75]': 82, '<:[:90]': 83, '<[:0]': 84, '<[:105]': 85, '<[:120]': 86, '<[:135]': 87, '<[:150]': 88, '<[:15]': 89, '<[:165]': 90, '<[:180]': 91, '<[:195]': 92, '<[:210]': 93, '<[:225]': 94, '<[:240]': 95, '<[:255]': 96, '<[:270]': 97, '<[:285]': 98, '<[:300]': 99, '<[:30]': 100, '<[:315]': 101, '<[:330]': 102, '<[:345]': 103, '<[:45]': 104, '<[:60]': 105, '<[:75]': 106, '<[:90]': 107, '<|[:105]': 108, '<|[:255]': 109, '<|[:330]': 110, '<|[:75]': 111, '=': 112, '=[:0]': 113, '=[:105]': 114, '=[:120]': 115, '=[:135]': 116, '=[:150]': 117, '=[:15]': 118, '=[:165]': 119, '=[:180]': 120, '=[:195]': 121, '=[:210]': 122, '=[:225]': 123, '=[:240]': 124, '=[:255]': 125, '=[:270]': 126, '=[:285]': 127, '=[:300]': 128, '=[:30]': 129, '=[:315]': 130, '=[:330]': 131, '=[:345]': 132, '=[:45]': 133, '=[:60]': 134, '=[:75]': 135, '=[:90]': 136, '>': 137, '>:[:0]': 138, '>:[:105]': 139, '>:[:120]': 140, '>:[:135]': 141, '>:[:150]': 142, '>:[:15]': 143, '>:[:165]': 144, '>:[:180]': 145, '>:[:195]': 146, '>:[:210]': 147, '>:[:225]': 148, '>:[:240]': 149, '>:[:255]': 150, '>:[:270]': 151, '>:[:285]': 152, '>:[:300]': 153, '>:[:30]': 154, '>:[:315]': 155, '>:[:330]': 156, '>:[:345]': 157, '>:[:45]': 158, '>:[:60]': 159, '>:[:75]': 160, '>:[:90]': 161, '>[:0]': 162, '>[:105]': 163, '>[:120]': 164, '>[:135]': 165, '>[:15]': 166, '>[:165]': 167, '>[:180]': 168, '>[:195]': 169, '>[:210]': 170, '>[:225]': 171, '>[:240]': 172, '>[:255]': 173, '>[:270]': 174, '>[:285]': 175, '>[:300]': 176, '>[:30]': 177, '>[:315]': 178, '>[:330]': 179, '>[:345]': 180, '>[:45]': 181, '>[:60]': 182, '>[:75]': 183, '>[:90]': 184, '>|[:0]': 185, '>|[:60]': 186, '?': 187, '?[a,{-}]': 188, '?[a,{<}]': 189, '?[a,{=}]': 190, '?[a,{>:}]': 191, '?[a,{>}]': 192, '?[a,{~}]': 193, '?[a]': 194, '?[b,{-}]': 195, '?[b,{<:}]': 196, '?[b,{<}]': 197, '?[b,{=}]': 198, '?[b,{>:}]': 199, '?[b]': 200, '?[c,{-}]': 201, '?[c,{<:}]': 202, '?[c,{<}]': 203, '?[c,{=}]': 204, '?[c,{>:}]': 205, '?[c,{>}]': 206, '?[c]': 207, '?[d,{-}]': 208, '?[d,{<:}]': 209, '?[d,{<}]': 210, '?[d,{=}]': 211, '?[d,{>:}]': 212, '?[d,{>}]': 213, '?[d]': 214, '?[e,{-}]': 215, '?[e,{<:}]': 216, '?[e,{<}]': 217, '?[e]': 218, '?[f,{-}]': 219, '?[f]': 220, 'A': 221, 'B': 222, 'C': 223, 'D': 224, 'E': 225, 'F': 226, 'G': 227, 'H': 228, 'I': 229, 'J': 230, 'K': 231, 'L': 232, 'M': 233, 'N': 234, 'O': 235, 'P': 236, 'Q': 237, 'R': 238, 'S': 239, 'T': 240, 'U': 241, 'V': 242, 'W': 243, 'X': 244, 'Y': 245, 'Z': 246, '[': 247, '\\\\%': 248, '\\\\Chemabove': 249, '\\\\Phi': 250, '\\\\Psi': 251, '\\\\Rightarrow': 252, '\\\\_': 253, '\\\\bigtriangleup': 254, '\\\\boxed': 255, '\\\\cdot': 256, '\\\\cdots': 257, '\\\\chemabove': 258, '\\\\chembelow': 259, '\\\\chemfig': 260, '\\\\circ': 261, '\\\\circle': 262, '\\\\diagdown': 263, '\\\\downarrow': 264, '\\\\equiv': 265, '\\\\frac': 266, '\\\\leftarrow': 267, '\\\\limits': 268, '\\\\nwarrow': 269, '\\\\overrightarrow': 270, '\\\\overset': 271, '\\\\phi': 272, '\\\\pm': 273, '\\\\prime': 274, '\\\\psi': 275, '\\\\rightarrow': 276, '\\\\rightleftharpoons': 277, '\\\\sim': 278, '\\\\space': 279, '\\\\swarrow': 280, '\\\\textcelsius': 281, '\\\\textcircled': 282, '\\\\times': 283, '\\\\triangle': 284, '\\\\underset': 285, '\\\\unk': 286, '\\\\uparrow': 287, '\\\\vdots': 288, '\\\\xLeftrightarrow': 289, '\\\\xRightarrow': 290, '\\\\xleftarrow': 291, '\\\\xleftrightharpoons': 292, '\\\\xlongequal': 293, '\\\\xmark': 294, '\\\\xrightarrow': 295, '\\\\xrightharpoonup': 296, '\\\\xrightleftarrows': 297, '\\\\xrightleftharpoons': 298, ']': 299, '^': 300, '_': 301, '`': 302, 'a': 303, 'b': 304, 'branch(': 305, 'branch)': 306, 'c': 307, 'd': 308, 'e': 309, 'f': 310, 'g': 311, 'h': 312, 'i': 313, 'j': 314, 'k': 315, 'l': 316, 'm': 317, 'n': 318, 'o': 319, 'p': 320, 'q': 321, 'r': 322, 's': 323, 't': 324, 'u': 325, 'v': 326, 'w': 327, 'x': 328, 'y': 329, 'z': 330, '{': 331, '|': 332, '}': 333, '~': 334, '~[:0]': 335, '~[:105]': 336, '~[:120]': 337, '~[:135]': 338, '~[:150]': 339, '~[:15]': 340, '~[:165]': 341, '~[:180]': 342, '~[:195]': 343, '~[:210]': 344, '~[:225]': 345, '~[:240]': 346, '~[:255]': 347, '~[:270]': 348, '~[:285]': 349, '~[:300]': 350, '~[:30]': 351, '~[:315]': 352, '~[:330]': 353, '~[:345]': 354, '~[:45]': 355, '~[:60]': 356, '~[:75]': 357, '~[:90]': 358, '\\\\Chemfig': 260, '\\\\ghemabove': 258, '\\\\hembelow': 259, '\\\\chenbelow': 259, '\\\\chhembelow': 259, '\\\\bigtriangledown': 108, '\\\\cembelow': 108, '\\\\checkmark': 108, '\\\\ddot': 108, '\\\\eta': 108, '\\\\frown': 108, '\\\\leftrightarrow': 108, '\\\\nearrow': 108, '\\\\nu': 108, '\\\\oplus': 108, '\\\\overline': 108, '\\\\rightharpoonup': 108, '\\\\rightleftarrows': 108, '\\\\sum': 108, '\\\\therefore': 108, '\\\\varnothing': 108, '\\\\wedge': 108, '\\\\xcacel': 108, '\\\\xcamcel': 108, '\\\\xleftrightarrows': 108, '※': 108, '、': 108, '【': 108, '】': 108, '㕭': 108, '一': 108, '三': 108, '下': 108, '不': 108, '业': 108, '两': 108, '乙': 108, '二': 108, '代': 108, '件': 108, '优': 108, '体': 108, '催': 108, '充': 108, '光': 108, '入': 108, '内': 108, '冰': 108, '冷': 108, '分': 108, '制': 108, '剂': 108, '加': 108, '化': 108, '区': 108, '压': 108, '原': 108, '去': 108, '反': 108, '发': 108, '取': 108, '合': 108, '同': 108, '吡': 108, '吪': 108, '呋': 108, '呲': 108, '和': 108, '哌': 108, '啶': 108, '喃': 108, '嗅': 108, '嘧': 108, '四': 108, '回': 108, '固': 108, '域': 108, '基': 108, '境': 108, '增': 108, '失': 108, '定': 108, '容': 108, '对': 108, '射': 108, '小': 108, '尼': 108, '屑': 108, '属': 108, '干': 108, '应': 108, '度': 108, '开': 108, '强': 108, '当': 108, '微': 108, '性': 108, '悬': 108, '成': 108, '或': 108, '手': 108, '抑': 108, '抹': 108, '控': 108, '数': 108, '斐': 108, '斯': 108, '新': 108, '无': 108, '易': 108, '曾': 108, '条': 108, '林': 108, '次': 108, '气': 108, '氢': 108, '氧': 108, '氨': 108, '氮': 108, '氯': 108, '水': 108, '汽': 108, '沙': 108, '油': 108, '波': 108, '注': 108, '洛': 108, '活': 108, '流': 108, '浊': 108, '浓': 108, '浴': 108, '涂': 108, '消': 108, '液': 108, '淡': 108, '清': 108, '温': 108, '溴': 108, '溶': 108, '澳': 108, '激': 108, '烟': 108, '热': 108, '烯': 108, '烷': 108, '照': 108, '熔': 108, '燥': 108, '物': 108, '环': 108, '甲': 108, '电': 108, '疏': 108, '的': 108, '盐': 108, '看': 108, '硝': 108, '硫': 108, '硼': 108, '碱': 108, '碳': 108, '磷': 108, '磺': 108, '稀': 108, '空': 108, '笨': 108, '粉': 108, '红': 108, '统': 108, '缩': 108, '羟': 108, '羧': 108, '耐': 108, '肢': 108, '胺': 108, '脱': 108, '苯': 108, '蒸': 108, '融': 108, '西': 108, '解': 108, '试': 108, '质': 108, '足': 108, '路': 108, '较': 108, '辐': 108, '过': 108, '还': 108, '适': 108, '邻': 108, '酉': 108, '配': 108, '酐': 108, '酚': 108, '酯': 108, '酰': 108, '酵': 108, '酶': 108, '酸': 108, '醇': 108, '醋': 108, '醚': 108, '醛': 108, '量': 108, '金': 108, '钠': 108, '钨': 108, '钯': 108, '钾': 108, '铁': 108, '铜': 108, '银': 108, '锰': 108, '镍': 108, '雷': 108, '高': 108}\n"
     ]
    }
   ],
   "source": [
    "from bivi_vocab import vocab, vocab_full\n",
    "\n",
    "vocab.print()"
   ]
  },
  {
   "cell_type": "code",
   "execution_count": 8,
   "metadata": {},
   "outputs": [],
   "source": [
    "from bivi_utils import to_bi_tgt_out\n",
    "\n",
    "seqs_y = [vocab.words2indices(label_dict[file + '.json'].split())]\n",
    "\n",
    "tgt, out = to_bi_tgt_out(seqs_y, \"cpu\")"
   ]
  },
  {
   "cell_type": "code",
   "execution_count": 9,
   "metadata": {},
   "outputs": [
    {
     "name": "stdout",
     "output_type": "stream",
     "text": [
      "torch.Size([1, 1, 320, 320])\n",
      "torch.Size([1, 320, 320])\n",
      "tensor([[  1, 260, 331,  20, 223, 305,  20, 306, 136, 235, 333],\n",
      "        [  2, 333, 235, 136, 306,  20, 305, 223,  20, 331, 260]])\n"
     ]
    }
   ],
   "source": [
    "print(x.shape)\n",
    "print(x_mask.shape)\n",
    "print(tgt)"
   ]
  },
  {
   "cell_type": "code",
   "execution_count": 10,
   "metadata": {},
   "outputs": [
    {
     "name": "stdout",
     "output_type": "stream",
     "text": [
      "\\chemfig { -[:0] C branch( -[:0] branch) =[:90] O }\n"
     ]
    }
   ],
   "source": [
    "print(label_dict[file + '.json'])"
   ]
  },
  {
   "cell_type": "code",
   "execution_count": 11,
   "metadata": {},
   "outputs": [
    {
     "name": "stdout",
     "output_type": "stream",
     "text": [
      "[[260, 331, 20, 223, 305, 20, 306, 136, 235, 333]]\n"
     ]
    }
   ],
   "source": [
    "print(seqs_y)"
   ]
  },
  {
   "cell_type": "code",
   "execution_count": 12,
   "metadata": {},
   "outputs": [],
   "source": [
    "from bivi_model import CrocsBiVision\n",
    "\n",
    "model = CrocsBiVision.load_from_checkpoint('../bivision-logs-new2/epoch=49-step=685450-val_loss=0.6076-val_wer=0.2679-359.ckpt')\n",
    "   \n",
    "# model = Crocs.load_from_checkpoint('dense-logs-new/epoch=54-step=375595-val_loss=0.2932-val_wer=0.3506-359.ckpt')"
   ]
  },
  {
   "cell_type": "code",
   "execution_count": 13,
   "metadata": {},
   "outputs": [
    {
     "name": "stdout",
     "output_type": "stream",
     "text": [
      "torch.Size([1, 1, 320, 320])\n",
      "torch.Size([1, 320, 320])\n"
     ]
    }
   ],
   "source": [
    "# Test on batch of 1\n",
    "\n",
    "print(x.shape)\n",
    "print(x_mask.shape)\n",
    "\n",
    "output = model(x, x_mask, out)"
   ]
  },
  {
   "cell_type": "code",
   "execution_count": 14,
   "metadata": {},
   "outputs": [
    {
     "name": "stdout",
     "output_type": "stream",
     "text": [
      "tensor([[  1,  20, 305, 305,  20, 235,  43, 235, 333,   2, 331],\n",
      "        [ 50,   2, 306,  20, 305, 223,  20, 235, 300,   1, 260]])\n"
     ]
    }
   ],
   "source": [
    "print(output.argmax(dim=2))"
   ]
  },
  {
   "cell_type": "code",
   "execution_count": 15,
   "metadata": {},
   "outputs": [
    {
     "name": "stdout",
     "output_type": "stream",
     "text": [
      "tensor([[260, 331,  20, 223, 305,  20, 306, 136, 235, 333,   2],\n",
      "        [333, 235, 136, 306,  20, 305, 223,  20, 331, 260,   1]])\n"
     ]
    }
   ],
   "source": [
    "print(out)"
   ]
  },
  {
   "cell_type": "code",
   "execution_count": 16,
   "metadata": {},
   "outputs": [
    {
     "data": {
      "text/plain": [
       "tensor([[False, False, False, False, False, False, False, False, False, False,\n",
       "         False],\n",
       "        [False, False, False, False, False, False, False, False, False, False,\n",
       "         False]])"
      ]
     },
     "execution_count": 16,
     "metadata": {},
     "output_type": "execute_result"
    }
   ],
   "source": [
    "torch.eq(out, output.argmax(dim=2))"
   ]
  },
  {
   "cell_type": "code",
   "execution_count": 17,
   "metadata": {},
   "outputs": [
    {
     "data": {
      "text/plain": [
       "tensor(1.)"
      ]
     },
     "execution_count": 17,
     "metadata": {},
     "output_type": "execute_result"
    }
   ],
   "source": [
    "from bivi_utils import we_rate\n",
    "\n",
    "we_rate(output.argmax(dim=2), seqs_y, 'cpu')"
   ]
  }
 ],
 "metadata": {
  "kernelspec": {
   "display_name": "torch-tf-lt",
   "language": "python",
   "name": "python3"
  },
  "language_info": {
   "codemirror_mode": {
    "name": "ipython",
    "version": 3
   },
   "file_extension": ".py",
   "mimetype": "text/x-python",
   "name": "python",
   "nbconvert_exporter": "python",
   "pygments_lexer": "ipython3",
   "version": "3.7.16"
  }
 },
 "nbformat": 4,
 "nbformat_minor": 2
}
